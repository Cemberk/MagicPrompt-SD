{
 "cells": [
  {
   "cell_type": "code",
   "execution_count": null,
   "id": "19672278",
   "metadata": {
    "scrolled": true
   },
   "outputs": [],
   "source": [
    "%%capture\n",
    "!pip install transformers transformers[sentencepiece] torch gradio"
   ]
  },
  {
   "cell_type": "code",
   "execution_count": null,
   "id": "6e141f61",
   "metadata": {
    "scrolled": false
   },
   "outputs": [],
   "source": [
    "import os\n",
    "from transformers import pipeline, GPT2LMHeadModel, GPT2Tokenizer\n",
    "import gradio as grad, random, re"
   ]
  },
  {
   "cell_type": "code",
   "execution_count": null,
   "id": "d2b2f156",
   "metadata": {
    "scrolled": false
   },
   "outputs": [],
   "source": [
    "model_path = \"model/\"\n",
    "model_chk = os.path.exists('model/pytorch_model.bin')\n",
    "\n",
    "if model_chk is False:\n",
    "    dir_chk = os.path.exists('model/')\n",
    "    \n",
    "    if dir_chk is False:\n",
    "        os.makedirs('model')\n",
    "    \n",
    "    repo = \"Gustavosta/MagicPrompt-Stable-Diffusion\"\n",
    "    tokenizer_dl = GPT2Tokenizer.from_pretrained(repo)\n",
    "    model_dl = GPT2LMHeadModel.from_pretrained(repo)\n",
    "    tokenizer_dl.save_pretrained(model_path)\n",
    "    model_dl.save_pretrained(model_path)\n",
    "    print('model cloned from Hugging Face')"
   ]
  },
  {
   "cell_type": "code",
   "execution_count": null,
   "id": "3cb173f8",
   "metadata": {},
   "outputs": [],
   "source": [
    "tokenizer = GPT2Tokenizer.from_pretrained(model_path)\n",
    "model = GPT2LMHeadModel.from_pretrained(model_path, pad_token_id=tokenizer.eos_token_id)\n",
    "pipe = pipeline('text-generation', model=model, tokenizer=tokenizer)"
   ]
  },
  {
   "cell_type": "code",
   "execution_count": null,
   "id": "597b5d76",
   "metadata": {},
   "outputs": [],
   "source": [
    "title = \"Stable Diffusion Prompt Generator\"\n",
    "article = 'This is a demo of the model series: \"MagicPrompt\", in this case, aimed at: \"Stable Diffusion\". To use it, simply submit your initial prompt on the left. To learn more about the model, [click here](https://huggingface.co/Gustavosta/MagicPrompt-Stable-Diffusion).<br>'"
   ]
  },
  {
   "cell_type": "code",
   "execution_count": null,
   "id": "3613fcdd",
   "metadata": {},
   "outputs": [],
   "source": [
    "grad.Interface.from_pipeline(pipe,\n",
    "                             title=title,\n",
    "                             article=article,\n",
    "                             allow_flagging='manual').launch(server_name=\"0.0.0.0\", server_port=8088, show_api=False, debug=True, favicon_path=\"favicon.png\")"
   ]
  }
 ],
 "metadata": {
  "kernelspec": {
   "display_name": "Python 3 (ipykernel)",
   "language": "python",
   "name": "python3"
  },
  "language_info": {
   "codemirror_mode": {
    "name": "ipython",
    "version": 3
   },
   "file_extension": ".py",
   "mimetype": "text/x-python",
   "name": "python",
   "nbconvert_exporter": "python",
   "pygments_lexer": "ipython3",
   "version": "3.10.7"
  }
 },
 "nbformat": 4,
 "nbformat_minor": 5
}
